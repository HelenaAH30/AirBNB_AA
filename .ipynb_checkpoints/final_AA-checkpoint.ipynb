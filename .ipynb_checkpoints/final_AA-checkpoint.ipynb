{
 "cells": [
  {
   "cell_type": "markdown",
   "metadata": {},
   "source": [
    "# Práctica Final \n",
    "\n",
    "**Asignatura**: Aprendizaje automático  \n",
    "**Ejercicio**: Práctica final  \n",
    "**Fecha de entrega**: 17 Febrero de 2021  \n",
    "**Autora**: Helena Antich Homar  \n",
    "\n",
    "#### Descripción del programa\n",
    "Este programa analiza y limpia los datos del fichero de Airbnb"
   ]
  },
  {
   "cell_type": "code",
   "execution_count": 1,
   "metadata": {},
   "outputs": [],
   "source": [
    "#%% Libraries\n",
    "import os\n",
    "import numpy as np\n",
    "import pandas as pd\n",
    "from copy import deepcopy"
   ]
  },
  {
   "cell_type": "code",
   "execution_count": 2,
   "metadata": {},
   "outputs": [],
   "source": [
    "#%% Directories\n",
    "working_directory = '/Users/Helena/Documents/MASTER MUSI/AA - ML - Aprendizaje automático/FINAL'\n",
    "os.chdir(working_directory)\n",
    "\n",
    "path_data = os.path.join(os.getcwd(), 'airbnb.csv')\n",
    "path_figures = os.path.join(os.getcwd(), 'Figures')"
   ]
  },
  {
   "cell_type": "code",
   "execution_count": 3,
   "metadata": {},
   "outputs": [
    {
     "name": "stdout",
     "output_type": "stream",
     "text": [
      "<class 'pandas.core.frame.DataFrame'>\n",
      "RangeIndex: 17608 entries, 0 to 17607\n",
      "Data columns (total 74 columns):\n",
      " #   Column                                        Non-Null Count  Dtype  \n",
      "---  ------                                        --------------  -----  \n",
      " 0   id                                            17608 non-null  int64  \n",
      " 1   listing_url                                   17608 non-null  object \n",
      " 2   scrape_id                                     17608 non-null  int64  \n",
      " 3   last_scraped                                  17608 non-null  object \n",
      " 4   name                                          17607 non-null  object \n",
      " 5   description                                   17393 non-null  object \n",
      " 6   neighborhood_overview                         8213 non-null   object \n",
      " 7   picture_url                                   17608 non-null  object \n",
      " 8   host_id                                       17608 non-null  int64  \n",
      " 9   host_url                                      17608 non-null  object \n",
      " 10  host_name                                     17606 non-null  object \n",
      " 11  host_since                                    17606 non-null  object \n",
      " 12  host_location                                 17572 non-null  object \n",
      " 13  host_about                                    11696 non-null  object \n",
      " 14  host_response_time                            15862 non-null  object \n",
      " 15  host_response_rate                            15862 non-null  object \n",
      " 16  host_acceptance_rate                          16098 non-null  object \n",
      " 17  host_is_superhost                             17606 non-null  object \n",
      " 18  host_thumbnail_url                            17606 non-null  object \n",
      " 19  host_picture_url                              17606 non-null  object \n",
      " 20  host_neighbourhood                            364 non-null    object \n",
      " 21  host_listings_count                           17606 non-null  float64\n",
      " 22  host_total_listings_count                     17606 non-null  float64\n",
      " 23  host_verifications                            17608 non-null  object \n",
      " 24  host_has_profile_pic                          17606 non-null  object \n",
      " 25  host_identity_verified                        17606 non-null  object \n",
      " 26  neighbourhood                                 8213 non-null   object \n",
      " 27  neighbourhood_cleansed                        17608 non-null  object \n",
      " 28  neighbourhood_group_cleansed                  0 non-null      float64\n",
      " 29  latitude                                      17608 non-null  float64\n",
      " 30  longitude                                     17608 non-null  float64\n",
      " 31  property_type                                 17608 non-null  object \n",
      " 32  room_type                                     17608 non-null  object \n",
      " 33  accommodates                                  17608 non-null  int64  \n",
      " 34  bathrooms                                     0 non-null      float64\n",
      " 35  bathrooms_text                                17600 non-null  object \n",
      " 36  bedrooms                                      17333 non-null  float64\n",
      " 37  beds                                          17511 non-null  float64\n",
      " 38  amenities                                     17608 non-null  object \n",
      " 39  price                                         17608 non-null  object \n",
      " 40  minimum_nights                                17608 non-null  int64  \n",
      " 41  maximum_nights                                17608 non-null  int64  \n",
      " 42  minimum_minimum_nights                        17608 non-null  int64  \n",
      " 43  maximum_minimum_nights                        17608 non-null  int64  \n",
      " 44  minimum_maximum_nights                        17608 non-null  int64  \n",
      " 45  maximum_maximum_nights                        17608 non-null  int64  \n",
      " 46  minimum_nights_avg_ntm                        17608 non-null  float64\n",
      " 47  maximum_nights_avg_ntm                        17608 non-null  float64\n",
      " 48  calendar_updated                              0 non-null      float64\n",
      " 49  has_availability                              17608 non-null  object \n",
      " 50  availability_30                               17608 non-null  int64  \n",
      " 51  availability_60                               17608 non-null  int64  \n",
      " 52  availability_90                               17608 non-null  int64  \n",
      " 53  availability_365                              17608 non-null  int64  \n",
      " 54  calendar_last_scraped                         17608 non-null  object \n",
      " 55  number_of_reviews                             17608 non-null  int64  \n",
      " 56  number_of_reviews_ltm                         17608 non-null  int64  \n",
      " 57  number_of_reviews_l30d                        17608 non-null  int64  \n",
      " 58  first_review                                  11173 non-null  object \n",
      " 59  last_review                                   11173 non-null  object \n",
      " 60  review_scores_rating                          10957 non-null  float64\n",
      " 61  review_scores_accuracy                        10951 non-null  float64\n",
      " 62  review_scores_cleanliness                     10953 non-null  float64\n",
      " 63  review_scores_checkin                         10949 non-null  float64\n",
      " 64  review_scores_communication                   10951 non-null  float64\n",
      " 65  review_scores_location                        10950 non-null  float64\n",
      " 66  review_scores_value                           10949 non-null  float64\n",
      " 67  license                                       11431 non-null  object \n",
      " 68  instant_bookable                              17608 non-null  object \n",
      " 69  calculated_host_listings_count                17608 non-null  int64  \n",
      " 70  calculated_host_listings_count_entire_homes   17608 non-null  int64  \n",
      " 71  calculated_host_listings_count_private_rooms  17608 non-null  int64  \n",
      " 72  calculated_host_listings_count_shared_rooms   17608 non-null  int64  \n",
      " 73  reviews_per_month                             11173 non-null  float64\n",
      "dtypes: float64(19), int64(21), object(34)\n",
      "memory usage: 9.9+ MB\n"
     ]
    }
   ],
   "source": [
    "#%% Loading data\n",
    "df_airbnb = pd.read_csv(path_data)\n",
    "df_airbnb.head()\n",
    "df_airbnb.info()"
   ]
  },
  {
   "cell_type": "code",
   "execution_count": null,
   "metadata": {},
   "outputs": [],
   "source": []
  }
 ],
 "metadata": {
  "anaconda-cloud": {},
  "kernelspec": {
   "display_name": "Python 3",
   "language": "python",
   "name": "python3"
  },
  "language_info": {
   "codemirror_mode": {
    "name": "ipython",
    "version": 3
   },
   "file_extension": ".py",
   "mimetype": "text/x-python",
   "name": "python",
   "nbconvert_exporter": "python",
   "pygments_lexer": "ipython3",
   "version": "3.7.9"
  }
 },
 "nbformat": 4,
 "nbformat_minor": 4
}
